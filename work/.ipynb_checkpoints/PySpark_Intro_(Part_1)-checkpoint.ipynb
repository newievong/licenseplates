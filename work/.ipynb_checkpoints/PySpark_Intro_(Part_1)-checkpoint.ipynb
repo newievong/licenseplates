{
 "cells": [
  {
   "cell_type": "markdown",
   "metadata": {
    "id": "syjvhtFLj2g1"
   },
   "source": [
    "# Introduction to PySpark Lab (Part 1)\n",
    "## Prerequisites\n",
    "### Install pyspark\n"
   ]
  },
  {
   "cell_type": "code",
   "execution_count": 1,
   "metadata": {
    "colab": {
     "base_uri": "https://localhost:8080/"
    },
    "id": "5zNTtoFueQ4F",
    "outputId": "5920a776-f96b-400c-9003-43b9ec9d2aa0"
   },
   "outputs": [
    {
     "name": "stdout",
     "output_type": "stream",
     "text": [
      "Requirement already satisfied: pyspark in /usr/local/spark/python (3.5.0)\n",
      "Requirement already satisfied: py4j==0.10.9.7 in /opt/conda/lib/python3.11/site-packages (from pyspark) (0.10.9.7)\n"
     ]
    }
   ],
   "source": [
    "!pip install pyspark"
   ]
  },
  {
   "cell_type": "markdown",
   "metadata": {
    "id": "sj0MSt29kJLV"
   },
   "source": [
    "### Create a SparkContext"
   ]
  },
  {
   "cell_type": "code",
   "execution_count": 2,
   "metadata": {
    "id": "t-U2OzkteXH-"
   },
   "outputs": [
    {
     "data": {
      "text/html": [
       "\n",
       "        <div>\n",
       "            <p><b>SparkContext</b></p>\n",
       "\n",
       "            <p><a href=\"http://c59daae7c23e:4040\">Spark UI</a></p>\n",
       "\n",
       "            <dl>\n",
       "              <dt>Version</dt>\n",
       "                <dd><code>v3.5.0</code></dd>\n",
       "              <dt>Master</dt>\n",
       "                <dd><code>local[*]</code></dd>\n",
       "              <dt>AppName</dt>\n",
       "                <dd><code>lab1</code></dd>\n",
       "            </dl>\n",
       "        </div>\n",
       "        "
      ],
      "text/plain": [
       "<SparkContext master=local[*] appName=lab1>"
      ]
     },
     "execution_count": 2,
     "metadata": {},
     "output_type": "execute_result"
    }
   ],
   "source": [
    "from pyspark.context import SparkContext\n",
    "# Create a Spark Context\n",
    "sc = SparkContext(\"local[*]\", 'lab1')\n",
    "# Check Spark Context Information\n",
    "sc"
   ]
  },
  {
   "cell_type": "markdown",
   "metadata": {
    "id": "n7RTbXiBjwL7"
   },
   "source": [
    "## Question 1: Create a Spark RDD from the list of license plates below"
   ]
  },
  {
   "cell_type": "code",
   "execution_count": 3,
   "metadata": {
    "id": "T89PH_kmhAKY"
   },
   "outputs": [],
   "source": [
    "license_plates = ['YZ-8548', '0UE 798', 'KT-1109', '828-VSA', '192 7887', '3-70684', 'NXF-430', '3-0494R', '0OF31',\n",
    "                  'ALE-8818', 'C89-27I', '598 7619', '59WN433', 'SU2 2684', '5SE M93', 'ALQ3793', '3C SA940', '767GDS',\n",
    "                  '46-Z380', 'ZV 48424', '9JX M45', '8-48213', '3JSS 07', '766 9BG', '520 UA0', '81-60250', '260 ODL',\n",
    "                  '6MN U92', '01-6312S', '1W O3813', '5WQ 656', '051 KIF', '243-972', '7UR36', '137-YAH', 'LZM-9881',\n",
    "                  '5M524', '231NQY', '478 DZN', 'TDM-0555', 'V50 1XB', '333-YHT', '41I X21', 'DLD-3865', 'OYK 757',\n",
    "                  'H18 4OB', '8-56620', '4RK4449', 'VCZ7194', 'NM 9752', 'BYY0205', '018 3239', '5G 6893S', '6-81631',\n",
    "                  '693 SV9', 'JST-8152', '552 PK6', '382 LTD', '159M9', 'RGQ 235', 'ROA6712', 'ZOA 414', 'F89-EHL',\n",
    "                  'O67 5FA', '6H052', '7T Z1498', 'HJ 06230', 'LPL-2048', '44-3082L', '2SD 265', '571 1288', '9-Q4755',\n",
    "                  'JTG4114', '4-99528M', '117 GRH', '189 TRI', '42-8792P', '405M', 'TR2 I0Y', '85OA3', '5J 81373',\n",
    "                  '1GY2430', 'DKL-518', '0A360', '884 0101', 'RCW 291', '76-X797', 'QXC 973', '820 WII', 'BCS5530',\n",
    "                  '0UJ3626', '00W G14', 'U74 4EF', '570JUP', '77Q Q04', '776 UWY', '876 ND3', 'DVC 7784', '683 FLE',\n",
    "                  'DYN-604', 'FVK 394', '998 WZ4', 'EIK-9572', 'WGH-760', 'XIW3544', '6R 0329Q', '450 BSJ', 'IY 61384',\n",
    "                  'NZQ 097', '04PK8', '482-390', '6N SW836', '075APU', '5-L7817', 'KXT 380', '49-8925K', '506-DAH',\n",
    "                  '2-73596', '0D 4448K', '74-H949', 'C62-JDV', 'MCP-458', '290-GDN', '959 HYS', '8-62259', '52UF096',\n",
    "                  '015 RGJ', 'CZH 288', 'MNH 034', 'XYY-9892', 'FJ3 7074', '174 4LN', '87EY541', '672-EMPV', '210-320',\n",
    "                  'RBF-3966', '9TL 317', '2P A2904', 'V36-88C', 'OPY 165', '34-6534K', 'MU 26458', '5VJ 039', '785S3',\n",
    "                  'O95 1DA', 'XPT-8782', '5-0604W', '578 YSJ', '960 JM6', 'YQ 85130', 'J 314563', 'O15-22B', 'OWU-827',\n",
    "                  '167CSW', '4709 SV', '238 6OC', '8JA C15', '264 2406', '692YQA', '364 PBN', '42-UR19', '643-LEQ',\n",
    "                  '8QI8937', 'KDT 857', '0-41754T', 'GYG-7238', '72G 218', '1MH Y45', 'HPG 499', '361-BAL', '56B 584',\n",
    "                  '460 4YJ', '96RK426', '559-ATV', 'YRF4202', 'HFV 589', '365-BOV', '346-WQW', 'OGP0504', '157-DZB',\n",
    "                  '564 GGJ', '81K 333', '086 KX4', '8JJA 11', '8-64227', 'PX-5701', '023 UY0', 'AEA5674', '6-7878B',\n",
    "                  '0S778', '300701', '6R E6025', '1NOQ230', '071-FAO', 'WLO6375', '427 6DF', '78Y 486', '059B',\n",
    "                  'L19-VQT', '70P 9281', 'TOU-274', '9-30314C', 'I16 6IJ', 'TRL 080', '294 2CJ', 'INT-541', '87XL4',\n",
    "                  '2U NZ514', '4G 11626', '449-TEW', '02BJ129', '4TZ 240', '0LIB079', 'XHT 625', '91-45603', 'B50 1QP',\n",
    "                  'GJ-9473', 'FFF-802', '509 YJU', 'KKZ 768', '141-194', '51EQ066', 'QPW7131', '96BJ2', '512 ZRA',\n",
    "                  '4Z NT182', '07FE295', '9Y032', '72B K99', 'HGU 878', '37A WH3', '659 XVE', 'SSS3515', '741-FBVW',\n",
    "                  'EC8 5995', '357-731', 'M 949716', '38WW169', '2W 46317', '9C 7039Y', '8-68298B', '128 QEF',\n",
    "                  'XZ 3467', '513 4NP', '6-34035H', '5LV0387', '82-NX74', 'IN 50292', '5KZ 929', '1OL Z22', '7V281',\n",
    "                  '206 LCL', '21F L77', 'DWD-4788', '006 FCM', '8WZ 328', 'J80-CHH', '2G 60705', '7-95900',\n",
    "                  '6C 9C3OKB', '4009 HF', '3XZ D46', 'WSN 244', 'NXL 565', '9-O2658', 'ZRM Z55', '28-89272',\n",
    "                  '3AP U34', '28Z OF7', 'DOD 737', '7CWN899', '004U4', '572 OP6', 'NFF 212', '964HVF', '9346',\n",
    "                  '12-J597', '779 HOS', 'FDB0525', '112A8', 'BFP 805', '365-UDB', 'OJA-882', '495 XEM', 'HEF-9395',\n",
    "                  '321079', '41W 496', 'HRX 035', 'WPG3657', '54-95903', '914 3PV', '7ZJE 44', '920GZH', '5M 40807',\n",
    "                  '723 NBA', 'FZ 4142', '42P Z80', '906-ILJ', '7D 8144M', '0W448', '3I 2454H', 'SCT-616', 'MDG 967',\n",
    "                  '373 PFA', '7WF3035', 'GCO-9711', '65F 655', '926 LU2', 'XCR1430', '531232', '619R', '4NH4108', '222 ZNG',\n",
    "                  'XRB 389', 'GCR-811', '1SE 422', '324 8BZ', '561 5143', '9Y628', '6X 4986T', '408-ISY', '224 HLM', '711 PX7',\n",
    "                  '3-76246', 'LD-5417', '61ZI7', 'CQ0 P7R', '48RU7', 'YDO-435', 'RZG 532', '049-SCLO', '793 FLH', '128-MHRY',\n",
    "                  '692-789', '7VZ 068', '738 LEJ', '988 GLG', '3689', '344 8BK', 'YUH J32', '3BN 777', '6Y NY891', '8LP 896',\n",
    "                  'FFK1859', 'DUR 307', '4-44895O', '6UG6177', 'HYB 443', '9ZDF 19', '90W 5262', 'HNQ-3307', '652GPN', '3-50680',\n",
    "                  'UQR 356', '987SWC', 'MPP 997', '76I•288', '4QXL385', 'MBX 129', 'KHF 225', '080 WAQ', 'JB 7782', '3G 60590',\n",
    "                  '77U 723', 'HQR 928', '9-2507M', '238 KVJ', 'KUZ 173', 'APZ-317', '729 TQM', 'DEB-2598', '8-70554', '9NN M56',\n",
    "                  'HFE 419', 'WF 2868', '4HS8731', 'T15 2JW', '771-LOI', 'VGY A15', 'BU 65960', 'CK9 H9T', '5RL 241', '4Q HH458',\n",
    "                  '1256', '5TGG544', 'YS 04475', 'WA 96199', 'IA-3676', '775UJT', '2N 7P6WNM', '546 JB1', '4ZPJ 32', '7V 2801N',\n",
    "                  'FDF-595', '73-S670', 'WVW-508', '709 LEN', '736DC', '90-QB18', '922 CB3', '17Y 383', 'B42-DHA',\n",
    "                  '782-QXO', '3CI6217', '96-U448', 'MBH2922', '83B•127', 'P13 4IE', 'WYQ-6324', 'GFE-957', '572 TAY',\n",
    "                  '932PAI', 'ZY 71175', '632 9HD', 'OH1 8399', 'HDN 370', 'PYN Y34', '623UTQ', 'SP 81439', '510C0',\n",
    "                  '123 BZI', '425-ONG', '6R L1511', 'ICR-353', '1K 1212Z', 'UG-8476', '09E MM1', 'YBA-787', '3PT35',\n",
    "                  'LLW 267', 'UJR-3228', 'AMJ 0093', '4H E7592', '247 QZU', 'KXI 593', 'JVS-036', '0E567', '080C8',\n",
    "                  '898-UOD', 'XAO 328', '58P•323', 'MKV 102', '038GF', 'QX-8074', 'RSQ-9213', 'TAA 643', '1KAG 26', '3-98741X',\n",
    "                  '276 DLY', '14L•849', '6H 69412', 'KXE 551', '761 VRT', '00K B51', '8J 2L9NDA', '635 8NG', 'PST B80']"
   ]
  },
  {
   "cell_type": "code",
   "execution_count": 4,
   "metadata": {
    "id": "WaZX27MkkicU"
   },
   "outputs": [],
   "source": [
    "# write your answer here\n",
    "rdd = sc.parallelize(license_plates)"
   ]
  },
  {
   "cell_type": "markdown",
   "metadata": {
    "id": "I5JGFUtmhMhF"
   },
   "source": [
    "## Question 2: Count the Number of License Plates in the RDD"
   ]
  },
  {
   "cell_type": "code",
   "execution_count": 5,
   "metadata": {
    "id": "LJJ3bL_OhMhK"
   },
   "outputs": [
    {
     "data": {
      "text/plain": [
       "457"
      ]
     },
     "execution_count": 5,
     "metadata": {},
     "output_type": "execute_result"
    }
   ],
   "source": [
    "# write your answer here\n",
    "rdd.count()"
   ]
  },
  {
   "cell_type": "markdown",
   "metadata": {
    "id": "I_WKpwMrhdyK"
   },
   "source": [
    "## Question 3: Return the License Plates containing the consecutive numbers `93`\n",
    "\n",
    "For example `'932PAI'` should be included, but `'9FP3AI'` should not be included."
   ]
  },
  {
   "cell_type": "code",
   "execution_count": 7,
   "metadata": {
    "id": "Naz97MUwhdyN"
   },
   "outputs": [
    {
     "data": {
      "text/plain": [
       "['5SE M93',\n",
       " 'ALQ3793',\n",
       " '5G 6893S',\n",
       " '693 SV9',\n",
       " '8QI8937',\n",
       " '9346',\n",
       " 'HEF-9395',\n",
       " '793 FLH',\n",
       " '932PAI',\n",
       " 'AMJ 0093',\n",
       " 'KXI 593']"
      ]
     },
     "execution_count": 7,
     "metadata": {},
     "output_type": "execute_result"
    }
   ],
   "source": [
    "# write your answer here\n",
    "rdd.filter(lambda s: '93' in s)\\\n",
    ".collect()"
   ]
  },
  {
   "cell_type": "markdown",
   "metadata": {
    "id": "TwUQwZBGvh-h"
   },
   "source": [
    "## Question 4: Extract the first value of each license plate and count the number of occurences for each value\n",
    "\n",
    "For example, `'932PAI'` will be counted towards the `9` group"
   ]
  },
  {
   "cell_type": "code",
   "execution_count": 12,
   "metadata": {
    "id": "Klws2Br8vh-k"
   },
   "outputs": [
    {
     "data": {
      "text/plain": [
       "[('Z', 4),\n",
       " ('G', 5),\n",
       " ('P', 4),\n",
       " ('3', 31),\n",
       " ('6', 28),\n",
       " ('Y', 7),\n",
       " ('8', 24),\n",
       " ('S', 4),\n",
       " ('U', 4),\n",
       " ('9', 30),\n",
       " ('2', 24),\n",
       " ('H', 12),\n",
       " ('O', 9),\n",
       " ('4', 33),\n",
       " ('B', 6),\n",
       " ('A', 5),\n",
       " ('Q', 3),\n",
       " ('I', 6),\n",
       " ('M', 9),\n",
       " ('5', 37),\n",
       " ('V', 4),\n",
       " ('K', 8),\n",
       " ('7', 37),\n",
       " ('F', 8),\n",
       " ('E', 2),\n",
       " ('T', 6),\n",
       " ('W', 8),\n",
       " ('L', 5),\n",
       " ('D', 8),\n",
       " ('X', 8),\n",
       " ('1', 25),\n",
       " ('N', 5),\n",
       " ('0', 31),\n",
       " ('J', 6),\n",
       " ('R', 6),\n",
       " ('C', 5)]"
      ]
     },
     "execution_count": 12,
     "metadata": {},
     "output_type": "execute_result"
    }
   ],
   "source": [
    "# write your answer here\n",
    "rdd.groupBy(lambda s: s[0])\\\n",
    "    .mapValues(len)\\\n",
    "    .collect()"
   ]
  }
 ],
 "metadata": {
  "colab": {
   "provenance": []
  },
  "kernelspec": {
   "display_name": "Python 3 (ipykernel)",
   "language": "python",
   "name": "python3"
  },
  "language_info": {
   "codemirror_mode": {
    "name": "ipython",
    "version": 3
   },
   "file_extension": ".py",
   "mimetype": "text/x-python",
   "name": "python",
   "nbconvert_exporter": "python",
   "pygments_lexer": "ipython3",
   "version": "3.11.6"
  }
 },
 "nbformat": 4,
 "nbformat_minor": 4
}
